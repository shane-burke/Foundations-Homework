{
 "cells": [
  {
   "cell_type": "markdown",
   "metadata": {},
   "source": [
    "# Homework 6, Part Two: A dataset about dogs.\n",
    "\n",
    "Data from [a FOIL request to New York City](https://www.muckrock.com/foi/new-york-city-17/pet-licensing-data-for-new-york-city-23826/)"
   ]
  },
  {
   "cell_type": "markdown",
   "metadata": {},
   "source": [
    "## Do your importing and your setup"
   ]
  },
  {
   "cell_type": "code",
   "execution_count": 1,
   "metadata": {},
   "outputs": [
    {
     "name": "stderr",
     "output_type": "stream",
     "text": [
      "/Users/shaneburke/.pyenv/versions/3.8.2/lib/python3.8/site-packages/pandas/compat/__init__.py:120: UserWarning: Could not import the lzma module. Your installed Python is incomplete. Attempting to use lzma compression will result in a RuntimeError.\n",
      "  warnings.warn(msg)\n"
     ]
    }
   ],
   "source": [
    "import pandas as pd"
   ]
  },
  {
   "cell_type": "markdown",
   "metadata": {},
   "source": [
    "## Read in the file `NYC_Dog_Licenses_Current_as_of_4-28-2016.xlsx` and look at the first five rows"
   ]
  },
  {
   "cell_type": "code",
   "execution_count": 2,
   "metadata": {},
   "outputs": [
    {
     "data": {
      "text/html": [
       "<div>\n",
       "<style scoped>\n",
       "    .dataframe tbody tr th:only-of-type {\n",
       "        vertical-align: middle;\n",
       "    }\n",
       "\n",
       "    .dataframe tbody tr th {\n",
       "        vertical-align: top;\n",
       "    }\n",
       "\n",
       "    .dataframe thead th {\n",
       "        text-align: right;\n",
       "    }\n",
       "</style>\n",
       "<table border=\"1\" class=\"dataframe\">\n",
       "  <thead>\n",
       "    <tr style=\"text-align: right;\">\n",
       "      <th></th>\n",
       "      <th>Owner Zip Code</th>\n",
       "      <th>Animal Name</th>\n",
       "      <th>Animal Gender</th>\n",
       "      <th>Primary Breed</th>\n",
       "      <th>Secondary Breed</th>\n",
       "      <th>Animal Dominant Color</th>\n",
       "      <th>Animal Secondary Color</th>\n",
       "      <th>Animal Third Color</th>\n",
       "      <th>Animal Birth</th>\n",
       "      <th>Spayed or Neut</th>\n",
       "      <th>Guard or Trained</th>\n",
       "      <th>Vaccinated</th>\n",
       "      <th>Application Date</th>\n",
       "      <th>License Issued Date</th>\n",
       "      <th>License Expired Date</th>\n",
       "    </tr>\n",
       "  </thead>\n",
       "  <tbody>\n",
       "    <tr>\n",
       "      <th>0</th>\n",
       "      <td>10024</td>\n",
       "      <td>BLUE MACK</td>\n",
       "      <td>M</td>\n",
       "      <td>Unknown</td>\n",
       "      <td>AIREDALE TERR</td>\n",
       "      <td>BROWN</td>\n",
       "      <td>BLACK</td>\n",
       "      <td>NaN</td>\n",
       "      <td>2007-11-01</td>\n",
       "      <td>Yes</td>\n",
       "      <td>No</td>\n",
       "      <td>Yes</td>\n",
       "      <td>2012-09-19 16:01:19.647</td>\n",
       "      <td>2015-09-19</td>\n",
       "      <td>2016-09-19</td>\n",
       "    </tr>\n",
       "    <tr>\n",
       "      <th>1</th>\n",
       "      <td>10461</td>\n",
       "      <td>Indie Zephir</td>\n",
       "      <td>M</td>\n",
       "      <td>Rottweiler</td>\n",
       "      <td>NaN</td>\n",
       "      <td>BLACK</td>\n",
       "      <td>TAN</td>\n",
       "      <td>NaN</td>\n",
       "      <td>2013-04-01</td>\n",
       "      <td>No</td>\n",
       "      <td>No</td>\n",
       "      <td>Yes</td>\n",
       "      <td>2013-09-20 11:41:36.647</td>\n",
       "      <td>2014-09-20</td>\n",
       "      <td>2018-09-20</td>\n",
       "    </tr>\n",
       "    <tr>\n",
       "      <th>2</th>\n",
       "      <td>10013</td>\n",
       "      <td>Bilal</td>\n",
       "      <td>M</td>\n",
       "      <td>Australian Cattledog</td>\n",
       "      <td>NaN</td>\n",
       "      <td>Rust</td>\n",
       "      <td>NaN</td>\n",
       "      <td>NaN</td>\n",
       "      <td>2014-09-01</td>\n",
       "      <td>Yes</td>\n",
       "      <td>NaN</td>\n",
       "      <td>No</td>\n",
       "      <td>2014-09-12 13:13:36.713</td>\n",
       "      <td>2014-09-12</td>\n",
       "      <td>2019-09-12</td>\n",
       "    </tr>\n",
       "    <tr>\n",
       "      <th>3</th>\n",
       "      <td>10025</td>\n",
       "      <td>Buddy</td>\n",
       "      <td>M</td>\n",
       "      <td>Unknown</td>\n",
       "      <td>Cockapoo</td>\n",
       "      <td>BLOND</td>\n",
       "      <td>WHITE</td>\n",
       "      <td>NaN</td>\n",
       "      <td>2008-04-01</td>\n",
       "      <td>Yes</td>\n",
       "      <td>No</td>\n",
       "      <td>Yes</td>\n",
       "      <td>2014-09-12 15:26:51.417</td>\n",
       "      <td>2014-09-12</td>\n",
       "      <td>2017-10-20</td>\n",
       "    </tr>\n",
       "    <tr>\n",
       "      <th>4</th>\n",
       "      <td>10013</td>\n",
       "      <td>Ali</td>\n",
       "      <td>M</td>\n",
       "      <td>Basenji</td>\n",
       "      <td>NaN</td>\n",
       "      <td>Black</td>\n",
       "      <td>NaN</td>\n",
       "      <td>NaN</td>\n",
       "      <td>2014-01-01</td>\n",
       "      <td>No</td>\n",
       "      <td>NaN</td>\n",
       "      <td>No</td>\n",
       "      <td>2014-09-12 15:43:17.707</td>\n",
       "      <td>2014-09-12</td>\n",
       "      <td>2019-09-12</td>\n",
       "    </tr>\n",
       "  </tbody>\n",
       "</table>\n",
       "</div>"
      ],
      "text/plain": [
       "   Owner Zip Code   Animal Name Animal Gender         Primary Breed  \\\n",
       "0           10024     BLUE MACK             M               Unknown   \n",
       "1           10461  Indie Zephir             M            Rottweiler   \n",
       "2           10013         Bilal             M  Australian Cattledog   \n",
       "3           10025         Buddy             M               Unknown   \n",
       "4           10013           Ali             M               Basenji   \n",
       "\n",
       "  Secondary Breed Animal Dominant Color Animal Secondary Color  \\\n",
       "0   AIREDALE TERR                 BROWN                  BLACK   \n",
       "1             NaN                 BLACK                    TAN   \n",
       "2             NaN                  Rust                    NaN   \n",
       "3        Cockapoo                 BLOND                  WHITE   \n",
       "4             NaN                 Black                    NaN   \n",
       "\n",
       "  Animal Third Color Animal Birth Spayed or Neut Guard or Trained Vaccinated  \\\n",
       "0                NaN   2007-11-01            Yes               No        Yes   \n",
       "1                NaN   2013-04-01             No               No        Yes   \n",
       "2                NaN   2014-09-01            Yes              NaN         No   \n",
       "3                NaN   2008-04-01            Yes               No        Yes   \n",
       "4                NaN   2014-01-01             No              NaN         No   \n",
       "\n",
       "         Application Date License Issued Date License Expired Date  \n",
       "0 2012-09-19 16:01:19.647          2015-09-19           2016-09-19  \n",
       "1 2013-09-20 11:41:36.647          2014-09-20           2018-09-20  \n",
       "2 2014-09-12 13:13:36.713          2014-09-12           2019-09-12  \n",
       "3 2014-09-12 15:26:51.417          2014-09-12           2017-10-20  \n",
       "4 2014-09-12 15:43:17.707          2014-09-12           2019-09-12  "
      ]
     },
     "execution_count": 2,
     "metadata": {},
     "output_type": "execute_result"
    }
   ],
   "source": [
    "df = pd.read_excel(\"NYC_Dog_Licenses_Current_as_of_4-28-2016.xlsx\").head(30000)\n",
    "df.head(5)"
   ]
  },
  {
   "cell_type": "markdown",
   "metadata": {},
   "source": [
    "## How many rows do you have in the data? What are the column types?\n",
    "\n",
    "If there are more than 30,000 rows in your dataset, go back and only read in the first 30,000."
   ]
  },
  {
   "cell_type": "code",
   "execution_count": 3,
   "metadata": {},
   "outputs": [
    {
     "data": {
      "text/plain": [
       "30000"
      ]
     },
     "execution_count": 3,
     "metadata": {},
     "output_type": "execute_result"
    }
   ],
   "source": [
    "len(df)\n",
    "#81937 but going back for 30,000"
   ]
  },
  {
   "cell_type": "code",
   "execution_count": 4,
   "metadata": {},
   "outputs": [
    {
     "data": {
      "text/plain": [
       "(30000, 15)"
      ]
     },
     "execution_count": 4,
     "metadata": {},
     "output_type": "execute_result"
    }
   ],
   "source": [
    "df.shape"
   ]
  },
  {
   "cell_type": "code",
   "execution_count": 5,
   "metadata": {},
   "outputs": [
    {
     "data": {
      "text/plain": [
       "Owner Zip Code                     int64\n",
       "Animal Name                       object\n",
       "Animal Gender                     object\n",
       "Primary Breed                     object\n",
       "Secondary Breed                   object\n",
       "Animal Dominant Color             object\n",
       "Animal Secondary Color            object\n",
       "Animal Third Color                object\n",
       "Animal Birth              datetime64[ns]\n",
       "Spayed or Neut                    object\n",
       "Guard or Trained                  object\n",
       "Vaccinated                        object\n",
       "Application Date          datetime64[ns]\n",
       "License Issued Date       datetime64[ns]\n",
       "License Expired Date      datetime64[ns]\n",
       "dtype: object"
      ]
     },
     "execution_count": 5,
     "metadata": {},
     "output_type": "execute_result"
    }
   ],
   "source": [
    "df.dtypes"
   ]
  },
  {
   "cell_type": "markdown",
   "metadata": {},
   "source": [
    "## Describe the dataset in words. What is each row? List two column titles along with what each of those columns means.\n",
    "\n",
    "For example: “Each row is an animal in the zoo. `is_reptile` is whether the animal is a reptile or not”"
   ]
  },
  {
   "cell_type": "code",
   "execution_count": 6,
   "metadata": {},
   "outputs": [
    {
     "name": "stdout",
     "output_type": "stream",
     "text": [
      "This is a dataset of dog licenses in NYC. Each row describes a dog.\n",
      "The animal birth column describes the birthdate in date format.\n",
      "The animal name column gives the animal's name. Most values in there are strings.\n"
     ]
    }
   ],
   "source": [
    "print(\"This is a dataset of dog licenses in NYC. Each row describes a dog.\")\n",
    "print(\"The animal birth column describes the birthdate in date format.\")\n",
    "print(\"The animal name column gives the animal's name. Most values in there are strings.\")"
   ]
  },
  {
   "cell_type": "markdown",
   "metadata": {},
   "source": [
    "# Your thoughts\n",
    "\n",
    "Think of four questions you could ask this dataset. **Don't ask them**, just write them down in the cell below. Feel free to use either Markdown or Python comments."
   ]
  },
  {
   "cell_type": "markdown",
   "metadata": {},
   "source": [
    "1. How many dogs were given licenses in November 2014?\n",
    "2. Do people buy (and license) more dogs in any season?\n",
    "3. What was the most popular breed for each month/year recorded?\n",
    "4. The longest animal name licensed in the set"
   ]
  },
  {
   "cell_type": "markdown",
   "metadata": {},
   "source": [
    "# Looking at some dogs"
   ]
  },
  {
   "cell_type": "markdown",
   "metadata": {},
   "source": [
    "## What are the most popular (primary) breeds of dogs? Graph the top 10."
   ]
  },
  {
   "cell_type": "code",
   "execution_count": 7,
   "metadata": {},
   "outputs": [],
   "source": [
    "#print(list(df.columns))\n",
    "\n",
    "new_names = []\n",
    "for column in df.columns:\n",
    "    new_names.append(column.replace(\" \", \"_\").lower())    \n",
    "\n",
    "df.columns = new_names"
   ]
  },
  {
   "cell_type": "code",
   "execution_count": 8,
   "metadata": {},
   "outputs": [
    {
     "data": {
      "text/plain": [
       "<AxesSubplot:>"
      ]
     },
     "execution_count": 8,
     "metadata": {},
     "output_type": "execute_result"
    },
    {
     "data": {
      "image/png": "[encoded data removed]",
      "text/plain": [
       "<Figure size 432x288 with 1 Axes>"
      ]
     },
     "metadata": {
      "needs_background": "light"
     },
     "output_type": "display_data"
    }
   ],
   "source": [
    "df.primary_breed.value_counts().head(10).sort_values(ascending=True).plot(kind=\"barh\")"
   ]
  },
  {
   "cell_type": "markdown",
   "metadata": {},
   "source": [
    "## \"Unknown\" is a terrible breed! Graph the top 10 breeds that are NOT Unknown"
   ]
  },
  {
   "cell_type": "code",
   "execution_count": 9,
   "metadata": {},
   "outputs": [
    {
     "data": {
      "text/plain": [
       "<AxesSubplot:>"
      ]
     },
     "execution_count": 9,
     "metadata": {},
     "output_type": "execute_result"
    },
    {
     "data": {
      "image/png": "[encoded data removed]",
      "text/plain": [
       "<Figure size 432x288 with 1 Axes>"
      ]
     },
     "metadata": {
      "needs_background": "light"
     },
     "output_type": "display_data"
    }
   ],
   "source": [
    "import numpy as np\n",
    "df.primary_breed = df.primary_breed.replace({\"Unknown\": np.nan})\n",
    "\n",
    "df.primary_breed.dropna().value_counts().head(10).sort_values(ascending=True).plot(kind=\"barh\")"
   ]
  },
  {
   "cell_type": "markdown",
   "metadata": {},
   "source": [
    "## What are the most popular dog names?"
   ]
  },
  {
   "cell_type": "code",
   "execution_count": 10,
   "metadata": {},
   "outputs": [
    {
     "data": {
      "text/plain": [
       "Max        202\n",
       "Unknown    197\n",
       "Bella      193\n",
       "Charlie    172\n",
       "Lola       146\n",
       "Rocky      140\n",
       "Lucy       128\n",
       "Coco       114\n",
       "Buddy      113\n",
       "Lucky      106\n",
       "Name: animal_name, dtype: int64"
      ]
     },
     "execution_count": 10,
     "metadata": {},
     "output_type": "execute_result"
    }
   ],
   "source": [
    "df.animal_name = df.animal_name.replace({\"UNKNOWN\": np.nan})\n",
    "df.animal_name.dropna().value_counts().head(10)"
   ]
  },
  {
   "cell_type": "markdown",
   "metadata": {},
   "source": [
    "## Do any dogs have your name? How many dogs are named \"Max,\" and how many are named \"Maxwell\"?"
   ]
  },
  {
   "cell_type": "code",
   "execution_count": 11,
   "metadata": {},
   "outputs": [
    {
     "name": "stdout",
     "output_type": "stream",
     "text": [
      "yes, 6 are named shane:\n"
     ]
    },
    {
     "data": {
      "text/html": [
       "<div>\n",
       "<style scoped>\n",
       "    .dataframe tbody tr th:only-of-type {\n",
       "        vertical-align: middle;\n",
       "    }\n",
       "\n",
       "    .dataframe tbody tr th {\n",
       "        vertical-align: top;\n",
       "    }\n",
       "\n",
       "    .dataframe thead th {\n",
       "        text-align: right;\n",
       "    }\n",
       "</style>\n",
       "<table border=\"1\" class=\"dataframe\">\n",
       "  <thead>\n",
       "    <tr style=\"text-align: right;\">\n",
       "      <th></th>\n",
       "      <th>owner_zip_code</th>\n",
       "      <th>animal_name</th>\n",
       "      <th>animal_gender</th>\n",
       "      <th>primary_breed</th>\n",
       "      <th>secondary_breed</th>\n",
       "      <th>animal_dominant_color</th>\n",
       "      <th>animal_secondary_color</th>\n",
       "      <th>animal_third_color</th>\n",
       "      <th>animal_birth</th>\n",
       "      <th>spayed_or_neut</th>\n",
       "      <th>guard_or_trained</th>\n",
       "      <th>vaccinated</th>\n",
       "      <th>application_date</th>\n",
       "      <th>license_issued_date</th>\n",
       "      <th>license_expired_date</th>\n",
       "    </tr>\n",
       "  </thead>\n",
       "  <tbody>\n",
       "    <tr>\n",
       "      <th>4904</th>\n",
       "      <td>11361</td>\n",
       "      <td>Shane</td>\n",
       "      <td>M</td>\n",
       "      <td>Labrador Retriever</td>\n",
       "      <td>NaN</td>\n",
       "      <td>BLOND</td>\n",
       "      <td>NaN</td>\n",
       "      <td>NaN</td>\n",
       "      <td>2004-01-01</td>\n",
       "      <td>Yes</td>\n",
       "      <td>No</td>\n",
       "      <td>Yes</td>\n",
       "      <td>2015-04-29 13:07:47.520</td>\n",
       "      <td>2015-04-29</td>\n",
       "      <td>2016-06-08</td>\n",
       "    </tr>\n",
       "    <tr>\n",
       "      <th>12847</th>\n",
       "      <td>10025</td>\n",
       "      <td>Shane</td>\n",
       "      <td>M</td>\n",
       "      <td>American Pit Bull Terrier/Pit Bull</td>\n",
       "      <td>NaN</td>\n",
       "      <td>Tan</td>\n",
       "      <td>NaN</td>\n",
       "      <td>NaN</td>\n",
       "      <td>2012-07-01</td>\n",
       "      <td>Yes</td>\n",
       "      <td>NaN</td>\n",
       "      <td>Yes</td>\n",
       "      <td>2015-06-13 18:09:26.107</td>\n",
       "      <td>2015-06-13</td>\n",
       "      <td>2016-06-13</td>\n",
       "    </tr>\n",
       "    <tr>\n",
       "      <th>19790</th>\n",
       "      <td>10312</td>\n",
       "      <td>Shane</td>\n",
       "      <td>M</td>\n",
       "      <td>Golden Retriever</td>\n",
       "      <td>NaN</td>\n",
       "      <td>Gold</td>\n",
       "      <td>White</td>\n",
       "      <td>NaN</td>\n",
       "      <td>2014-04-01</td>\n",
       "      <td>Yes</td>\n",
       "      <td>NaN</td>\n",
       "      <td>Yes</td>\n",
       "      <td>2015-07-12 10:57:48.543</td>\n",
       "      <td>2015-07-12</td>\n",
       "      <td>2016-07-12</td>\n",
       "    </tr>\n",
       "    <tr>\n",
       "      <th>20970</th>\n",
       "      <td>10033</td>\n",
       "      <td>Shane</td>\n",
       "      <td>M</td>\n",
       "      <td>Schnauzer, Miniature</td>\n",
       "      <td>NaN</td>\n",
       "      <td>SILVER</td>\n",
       "      <td>BLACK</td>\n",
       "      <td>GRAY</td>\n",
       "      <td>2009-10-01</td>\n",
       "      <td>No</td>\n",
       "      <td>No</td>\n",
       "      <td>Yes</td>\n",
       "      <td>2015-07-17 11:48:00.093</td>\n",
       "      <td>2015-07-17</td>\n",
       "      <td>2016-07-21</td>\n",
       "    </tr>\n",
       "    <tr>\n",
       "      <th>21891</th>\n",
       "      <td>11370</td>\n",
       "      <td>Shane</td>\n",
       "      <td>M</td>\n",
       "      <td>NaN</td>\n",
       "      <td>NaN</td>\n",
       "      <td>BLACK</td>\n",
       "      <td>TAN</td>\n",
       "      <td>WHITE</td>\n",
       "      <td>2012-02-01</td>\n",
       "      <td>Yes</td>\n",
       "      <td>No</td>\n",
       "      <td>Yes</td>\n",
       "      <td>2015-07-22 12:52:29.047</td>\n",
       "      <td>2015-07-22</td>\n",
       "      <td>2016-08-23</td>\n",
       "    </tr>\n",
       "    <tr>\n",
       "      <th>22517</th>\n",
       "      <td>11238</td>\n",
       "      <td>Shane</td>\n",
       "      <td>M</td>\n",
       "      <td>Pug</td>\n",
       "      <td>NaN</td>\n",
       "      <td>TAN</td>\n",
       "      <td>BLACK</td>\n",
       "      <td>BROWN</td>\n",
       "      <td>2000-01-01</td>\n",
       "      <td>No</td>\n",
       "      <td>No</td>\n",
       "      <td>No</td>\n",
       "      <td>2015-07-24 10:40:57.973</td>\n",
       "      <td>2015-07-24</td>\n",
       "      <td>2016-07-30</td>\n",
       "    </tr>\n",
       "  </tbody>\n",
       "</table>\n",
       "</div>"
      ],
      "text/plain": [
       "       owner_zip_code animal_name animal_gender  \\\n",
       "4904            11361       Shane             M   \n",
       "12847           10025       Shane             M   \n",
       "19790           10312       Shane             M   \n",
       "20970           10033       Shane             M   \n",
       "21891           11370       Shane             M   \n",
       "22517           11238       Shane             M   \n",
       "\n",
       "                            primary_breed secondary_breed  \\\n",
       "4904                   Labrador Retriever             NaN   \n",
       "12847  American Pit Bull Terrier/Pit Bull             NaN   \n",
       "19790                    Golden Retriever             NaN   \n",
       "20970                Schnauzer, Miniature             NaN   \n",
       "21891                                 NaN             NaN   \n",
       "22517                                 Pug             NaN   \n",
       "\n",
       "      animal_dominant_color animal_secondary_color animal_third_color  \\\n",
       "4904                  BLOND                    NaN                NaN   \n",
       "12847                   Tan                    NaN                NaN   \n",
       "19790                  Gold                  White                NaN   \n",
       "20970                SILVER                  BLACK               GRAY   \n",
       "21891                 BLACK                    TAN              WHITE   \n",
       "22517                   TAN                  BLACK              BROWN   \n",
       "\n",
       "      animal_birth spayed_or_neut guard_or_trained vaccinated  \\\n",
       "4904    2004-01-01            Yes               No        Yes   \n",
       "12847   2012-07-01            Yes              NaN        Yes   \n",
       "19790   2014-04-01            Yes              NaN        Yes   \n",
       "20970   2009-10-01             No               No        Yes   \n",
       "21891   2012-02-01            Yes               No        Yes   \n",
       "22517   2000-01-01             No               No         No   \n",
       "\n",
       "             application_date license_issued_date license_expired_date  \n",
       "4904  2015-04-29 13:07:47.520          2015-04-29           2016-06-08  \n",
       "12847 2015-06-13 18:09:26.107          2015-06-13           2016-06-13  \n",
       "19790 2015-07-12 10:57:48.543          2015-07-12           2016-07-12  \n",
       "20970 2015-07-17 11:48:00.093          2015-07-17           2016-07-21  \n",
       "21891 2015-07-22 12:52:29.047          2015-07-22           2016-08-23  \n",
       "22517 2015-07-24 10:40:57.973          2015-07-24           2016-07-30  "
      ]
     },
     "execution_count": 11,
     "metadata": {},
     "output_type": "execute_result"
    }
   ],
   "source": [
    "print(\"yes, 6 are named shane:\")\n",
    "df[df.animal_name == \"Shane\"]"
   ]
  },
  {
   "cell_type": "code",
   "execution_count": 12,
   "metadata": {},
   "outputs": [
    {
     "name": "stdout",
     "output_type": "stream",
     "text": [
      "There are 202 dogs named Max.\n",
      "There are 11 dogs named Maxwell.\n"
     ]
    }
   ],
   "source": [
    "#df[df.animal_name == \"Max\"].animal_name.value_counts()\n",
    "#df[df.animal_name == \"Maxwell\"].animal_name.value_counts()\n",
    "\n",
    "print(\"There are\", len(df[df.animal_name == \"Max\"]), \"dogs named Max.\")\n",
    "print(\"There are\", len(df[df.animal_name == \"Maxwell\"]), \"dogs named Maxwell.\")"
   ]
  },
  {
   "cell_type": "markdown",
   "metadata": {},
   "source": [
    "## What percentage of dogs are guard dogs?\n",
    "\n",
    "Check out the documentation for [value counts](https://pandas.pydata.org/pandas-docs/stable/generated/pandas.Series.value_counts.html)."
   ]
  },
  {
   "cell_type": "code",
   "execution_count": 13,
   "metadata": {},
   "outputs": [
    {
     "name": "stdout",
     "output_type": "stream",
     "text": [
      "No     99.914254\n",
      "Yes     0.085746\n",
      "Name: guard_or_trained, dtype: float64\n",
      "\n",
      "\n",
      ".08% of registered dogs are guard dogs or trained guard dogs.\n"
     ]
    }
   ],
   "source": [
    "print(df.guard_or_trained.value_counts(normalize=True)*100)\n",
    "print(\"\\n\")\n",
    "print(\".08% of registered dogs are guard dogs or trained guard dogs.\")"
   ]
  },
  {
   "cell_type": "markdown",
   "metadata": {},
   "source": [
    "## What are the actual numbers?"
   ]
  },
  {
   "cell_type": "code",
   "execution_count": 14,
   "metadata": {},
   "outputs": [
    {
     "data": {
      "text/plain": [
       "No     19809\n",
       "Yes       17\n",
       "Name: guard_or_trained, dtype: int64"
      ]
     },
     "execution_count": 14,
     "metadata": {},
     "output_type": "execute_result"
    }
   ],
   "source": [
    "df.guard_or_trained.value_counts()"
   ]
  },
  {
   "cell_type": "markdown",
   "metadata": {},
   "source": [
    "## Wait... if you add that up, is it the same as your number of rows? Where are the other dogs???? How can we find them??????\n",
    "\n",
    "Use your `.head()` to think about it, then you'll do some magic with `.value_counts()`"
   ]
  },
  {
   "cell_type": "code",
   "execution_count": 15,
   "metadata": {},
   "outputs": [
    {
     "name": "stdout",
     "output_type": "stream",
     "text": [
      "There are 10,174 dogs with null values in the guard column.\n"
     ]
    }
   ],
   "source": [
    "#df.guard_or_trained.value_counts(dropna=False)\n",
    "print(\"There are 10,174 dogs with null values in the guard column.\")"
   ]
  },
  {
   "cell_type": "markdown",
   "metadata": {},
   "source": [
    "## Fill in all of those empty \"Guard or Trained\" columns with \"No\"\n",
    "\n",
    "Then check your result with another `.value_counts()`"
   ]
  },
  {
   "cell_type": "code",
   "execution_count": 16,
   "metadata": {},
   "outputs": [
    {
     "data": {
      "text/plain": [
       "No     29983\n",
       "Yes       17\n",
       "Name: guard_or_trained, dtype: int64"
      ]
     },
     "execution_count": 16,
     "metadata": {},
     "output_type": "execute_result"
    }
   ],
   "source": [
    "df.guard_or_trained = df.guard_or_trained.replace({np.nan: \"No\"})\n",
    "df.guard_or_trained.value_counts(dropna=False)"
   ]
  },
  {
   "cell_type": "markdown",
   "metadata": {},
   "source": [
    "## What are the top dog breeds for guard dogs? "
   ]
  },
  {
   "cell_type": "code",
   "execution_count": 17,
   "metadata": {},
   "outputs": [
    {
     "data": {
      "text/plain": [
       "German Shepherd Dog           3\n",
       "German Shepherd Crossbreed    1\n",
       "Labrador Retriever            1\n",
       "Doberman Pinscher             1\n",
       "Schnauzer, Miniature          1\n",
       "Shih Tzu                      1\n",
       "Rottweiler                    1\n",
       "Yorkshire Terrier             1\n",
       "Poodle, Standard              1\n",
       "Golden Retriever              1\n",
       "Name: primary_breed, dtype: int64"
      ]
     },
     "execution_count": 17,
     "metadata": {},
     "output_type": "execute_result"
    }
   ],
   "source": [
    "df[df.guard_or_trained == \"Yes\"].primary_breed.value_counts()\n",
    "\n",
    "#lol a yorkie as a guard dog"
   ]
  },
  {
   "cell_type": "markdown",
   "metadata": {},
   "source": [
    "## Create a new column called \"year\" that is the dog's year of birth\n",
    "\n",
    "The `Animal Birth` column is a datetime, so you can get the year out of it with the code `df['Animal Birth'].apply(lambda birth: birth.year)`."
   ]
  },
  {
   "cell_type": "code",
   "execution_count": 18,
   "metadata": {},
   "outputs": [
    {
     "name": "stdout",
     "output_type": "stream",
     "text": [
      "0        2007\n",
      "1        2013\n",
      "2        2014\n",
      "3        2008\n",
      "4        2014\n",
      "         ... \n",
      "29995    2010\n",
      "29996    2010\n",
      "29997    2014\n",
      "29998    2009\n",
      "29999    2012\n",
      "Name: birth_year, Length: 30000, dtype: int64\n"
     ]
    }
   ],
   "source": [
    "df['birth_year'] = df.animal_birth.apply(lambda birth: birth.year)\n",
    "print(df['birth_year'])"
   ]
  },
  {
   "cell_type": "markdown",
   "metadata": {},
   "source": [
    "## Calculate a new column called “age” that shows approximately how old the dog is. How old are dogs on average?"
   ]
  },
  {
   "cell_type": "code",
   "execution_count": 19,
   "metadata": {},
   "outputs": [
    {
     "name": "stdout",
     "output_type": "stream",
     "text": [
      "NYC dogs are 11 years old on average.\n"
     ]
    }
   ],
   "source": [
    "df['dog_age'] = 2020 - df['birth_year']\n",
    "\n",
    "#print(df) to check it implemented\n",
    "\n",
    "print(f'NYC dogs are {df.dog_age.mean():.0f} years old on average.')"
   ]
  },
  {
   "cell_type": "markdown",
   "metadata": {},
   "source": [
    "# Joining data together"
   ]
  },
  {
   "cell_type": "markdown",
   "metadata": {},
   "source": [
    "## Which neighborhood does each dog live in?\n",
    "\n",
    "You also have a (terrible) list of NYC neighborhoods in `zipcodes-neighborhoods.csv`. Join these two datasets together, so we know what neighborhood each dog lives in. **Be sure to not read it in as `df`, or else you'll overwrite your dogs dataframe.**"
   ]
  },
  {
   "cell_type": "code",
   "execution_count": 20,
   "metadata": {},
   "outputs": [
    {
     "data": {
      "text/html": [
       "<div>\n",
       "<style scoped>\n",
       "    .dataframe tbody tr th:only-of-type {\n",
       "        vertical-align: middle;\n",
       "    }\n",
       "\n",
       "    .dataframe tbody tr th {\n",
       "        vertical-align: top;\n",
       "    }\n",
       "\n",
       "    .dataframe thead th {\n",
       "        text-align: right;\n",
       "    }\n",
       "</style>\n",
       "<table border=\"1\" class=\"dataframe\">\n",
       "  <thead>\n",
       "    <tr style=\"text-align: right;\">\n",
       "      <th></th>\n",
       "      <th>owner_zip_code</th>\n",
       "      <th>animal_name</th>\n",
       "      <th>animal_gender</th>\n",
       "      <th>primary_breed</th>\n",
       "      <th>secondary_breed</th>\n",
       "      <th>animal_dominant_color</th>\n",
       "      <th>animal_secondary_color</th>\n",
       "      <th>animal_third_color</th>\n",
       "      <th>animal_birth</th>\n",
       "      <th>spayed_or_neut</th>\n",
       "      <th>guard_or_trained</th>\n",
       "      <th>vaccinated</th>\n",
       "      <th>application_date</th>\n",
       "      <th>license_issued_date</th>\n",
       "      <th>license_expired_date</th>\n",
       "      <th>birth_year</th>\n",
       "      <th>dog_age</th>\n",
       "      <th>neighborhood</th>\n",
       "      <th>borough</th>\n",
       "    </tr>\n",
       "  </thead>\n",
       "  <tbody>\n",
       "    <tr>\n",
       "      <th>0</th>\n",
       "      <td>10024</td>\n",
       "      <td>BLUE MACK</td>\n",
       "      <td>M</td>\n",
       "      <td>NaN</td>\n",
       "      <td>AIREDALE TERR</td>\n",
       "      <td>BROWN</td>\n",
       "      <td>BLACK</td>\n",
       "      <td>NaN</td>\n",
       "      <td>2007-11-01</td>\n",
       "      <td>Yes</td>\n",
       "      <td>No</td>\n",
       "      <td>Yes</td>\n",
       "      <td>2012-09-19 16:01:19.647</td>\n",
       "      <td>2015-09-19</td>\n",
       "      <td>2016-09-19</td>\n",
       "      <td>2007</td>\n",
       "      <td>13</td>\n",
       "      <td>Upper West Side</td>\n",
       "      <td>Manhattan</td>\n",
       "    </tr>\n",
       "    <tr>\n",
       "      <th>1</th>\n",
       "      <td>10461</td>\n",
       "      <td>Indie Zephir</td>\n",
       "      <td>M</td>\n",
       "      <td>Rottweiler</td>\n",
       "      <td>NaN</td>\n",
       "      <td>BLACK</td>\n",
       "      <td>TAN</td>\n",
       "      <td>NaN</td>\n",
       "      <td>2013-04-01</td>\n",
       "      <td>No</td>\n",
       "      <td>No</td>\n",
       "      <td>Yes</td>\n",
       "      <td>2013-09-20 11:41:36.647</td>\n",
       "      <td>2014-09-20</td>\n",
       "      <td>2018-09-20</td>\n",
       "      <td>2013</td>\n",
       "      <td>7</td>\n",
       "      <td>Southeast Bronx</td>\n",
       "      <td>Bronx</td>\n",
       "    </tr>\n",
       "    <tr>\n",
       "      <th>2</th>\n",
       "      <td>10013</td>\n",
       "      <td>Bilal</td>\n",
       "      <td>M</td>\n",
       "      <td>Australian Cattledog</td>\n",
       "      <td>NaN</td>\n",
       "      <td>Rust</td>\n",
       "      <td>NaN</td>\n",
       "      <td>NaN</td>\n",
       "      <td>2014-09-01</td>\n",
       "      <td>Yes</td>\n",
       "      <td>No</td>\n",
       "      <td>No</td>\n",
       "      <td>2014-09-12 13:13:36.713</td>\n",
       "      <td>2014-09-12</td>\n",
       "      <td>2019-09-12</td>\n",
       "      <td>2014</td>\n",
       "      <td>6</td>\n",
       "      <td>Greenwich Village and Soho</td>\n",
       "      <td>Manhattan</td>\n",
       "    </tr>\n",
       "    <tr>\n",
       "      <th>3</th>\n",
       "      <td>10025</td>\n",
       "      <td>Buddy</td>\n",
       "      <td>M</td>\n",
       "      <td>NaN</td>\n",
       "      <td>Cockapoo</td>\n",
       "      <td>BLOND</td>\n",
       "      <td>WHITE</td>\n",
       "      <td>NaN</td>\n",
       "      <td>2008-04-01</td>\n",
       "      <td>Yes</td>\n",
       "      <td>No</td>\n",
       "      <td>Yes</td>\n",
       "      <td>2014-09-12 15:26:51.417</td>\n",
       "      <td>2014-09-12</td>\n",
       "      <td>2017-10-20</td>\n",
       "      <td>2008</td>\n",
       "      <td>12</td>\n",
       "      <td>Upper West Side</td>\n",
       "      <td>Manhattan</td>\n",
       "    </tr>\n",
       "    <tr>\n",
       "      <th>4</th>\n",
       "      <td>10013</td>\n",
       "      <td>Ali</td>\n",
       "      <td>M</td>\n",
       "      <td>Basenji</td>\n",
       "      <td>NaN</td>\n",
       "      <td>Black</td>\n",
       "      <td>NaN</td>\n",
       "      <td>NaN</td>\n",
       "      <td>2014-01-01</td>\n",
       "      <td>No</td>\n",
       "      <td>No</td>\n",
       "      <td>No</td>\n",
       "      <td>2014-09-12 15:43:17.707</td>\n",
       "      <td>2014-09-12</td>\n",
       "      <td>2019-09-12</td>\n",
       "      <td>2014</td>\n",
       "      <td>6</td>\n",
       "      <td>Greenwich Village and Soho</td>\n",
       "      <td>Manhattan</td>\n",
       "    </tr>\n",
       "    <tr>\n",
       "      <th>...</th>\n",
       "      <td>...</td>\n",
       "      <td>...</td>\n",
       "      <td>...</td>\n",
       "      <td>...</td>\n",
       "      <td>...</td>\n",
       "      <td>...</td>\n",
       "      <td>...</td>\n",
       "      <td>...</td>\n",
       "      <td>...</td>\n",
       "      <td>...</td>\n",
       "      <td>...</td>\n",
       "      <td>...</td>\n",
       "      <td>...</td>\n",
       "      <td>...</td>\n",
       "      <td>...</td>\n",
       "      <td>...</td>\n",
       "      <td>...</td>\n",
       "      <td>...</td>\n",
       "      <td>...</td>\n",
       "    </tr>\n",
       "    <tr>\n",
       "      <th>29995</th>\n",
       "      <td>11372</td>\n",
       "      <td>Bella</td>\n",
       "      <td>F</td>\n",
       "      <td>NaN</td>\n",
       "      <td>Goldendoodle</td>\n",
       "      <td>CREAM</td>\n",
       "      <td>WHITE</td>\n",
       "      <td>TAN</td>\n",
       "      <td>2010-07-01</td>\n",
       "      <td>Yes</td>\n",
       "      <td>No</td>\n",
       "      <td>Yes</td>\n",
       "      <td>2015-08-22 19:00:39.303</td>\n",
       "      <td>2015-08-22</td>\n",
       "      <td>2016-09-27</td>\n",
       "      <td>2010</td>\n",
       "      <td>10</td>\n",
       "      <td>West Queens</td>\n",
       "      <td>Queens</td>\n",
       "    </tr>\n",
       "    <tr>\n",
       "      <th>29996</th>\n",
       "      <td>11417</td>\n",
       "      <td>Sadie</td>\n",
       "      <td>F</td>\n",
       "      <td>Schnauzer, Miniature</td>\n",
       "      <td>NaN</td>\n",
       "      <td>BLACK</td>\n",
       "      <td>BROWN</td>\n",
       "      <td>NaN</td>\n",
       "      <td>2010-05-01</td>\n",
       "      <td>Yes</td>\n",
       "      <td>No</td>\n",
       "      <td>Yes</td>\n",
       "      <td>2015-08-22 19:03:08.003</td>\n",
       "      <td>2015-08-22</td>\n",
       "      <td>2016-09-28</td>\n",
       "      <td>2010</td>\n",
       "      <td>10</td>\n",
       "      <td>Southwest Queens</td>\n",
       "      <td>Queens</td>\n",
       "    </tr>\n",
       "    <tr>\n",
       "      <th>29997</th>\n",
       "      <td>11228</td>\n",
       "      <td>unknown</td>\n",
       "      <td>M</td>\n",
       "      <td>Pomeranian</td>\n",
       "      <td>NaN</td>\n",
       "      <td>Tan</td>\n",
       "      <td>White</td>\n",
       "      <td>NaN</td>\n",
       "      <td>2014-03-01</td>\n",
       "      <td>Yes</td>\n",
       "      <td>No</td>\n",
       "      <td>Yes</td>\n",
       "      <td>2015-08-22 19:04:56.720</td>\n",
       "      <td>2015-08-22</td>\n",
       "      <td>2016-08-22</td>\n",
       "      <td>2014</td>\n",
       "      <td>6</td>\n",
       "      <td>Southwest Brooklyn</td>\n",
       "      <td>Brooklyn</td>\n",
       "    </tr>\n",
       "    <tr>\n",
       "      <th>29998</th>\n",
       "      <td>11217</td>\n",
       "      <td>daisy</td>\n",
       "      <td>F</td>\n",
       "      <td>NaN</td>\n",
       "      <td>NaN</td>\n",
       "      <td>GRAY</td>\n",
       "      <td>WHITE</td>\n",
       "      <td>BLACK</td>\n",
       "      <td>2009-01-01</td>\n",
       "      <td>Yes</td>\n",
       "      <td>No</td>\n",
       "      <td>Yes</td>\n",
       "      <td>2015-08-22 19:14:30.177</td>\n",
       "      <td>2015-08-22</td>\n",
       "      <td>2016-08-05</td>\n",
       "      <td>2009</td>\n",
       "      <td>11</td>\n",
       "      <td>Northwest Brooklyn</td>\n",
       "      <td>Brooklyn</td>\n",
       "    </tr>\n",
       "    <tr>\n",
       "      <th>29999</th>\n",
       "      <td>10038</td>\n",
       "      <td>Squeeze</td>\n",
       "      <td>M</td>\n",
       "      <td>Shih Tzu</td>\n",
       "      <td>NaN</td>\n",
       "      <td>TAN</td>\n",
       "      <td>WHITE</td>\n",
       "      <td>NaN</td>\n",
       "      <td>2012-03-01</td>\n",
       "      <td>Yes</td>\n",
       "      <td>No</td>\n",
       "      <td>Yes</td>\n",
       "      <td>2015-08-22 19:20:53.700</td>\n",
       "      <td>2015-08-22</td>\n",
       "      <td>2016-07-23</td>\n",
       "      <td>2012</td>\n",
       "      <td>8</td>\n",
       "      <td>Lower Manhattan</td>\n",
       "      <td>Manhattan</td>\n",
       "    </tr>\n",
       "  </tbody>\n",
       "</table>\n",
       "<p>30000 rows × 19 columns</p>\n",
       "</div>"
      ],
      "text/plain": [
       "       owner_zip_code   animal_name animal_gender         primary_breed  \\\n",
       "0               10024     BLUE MACK             M                   NaN   \n",
       "1               10461  Indie Zephir             M            Rottweiler   \n",
       "2               10013         Bilal             M  Australian Cattledog   \n",
       "3               10025         Buddy             M                   NaN   \n",
       "4               10013           Ali             M               Basenji   \n",
       "...               ...           ...           ...                   ...   \n",
       "29995           11372         Bella             F                   NaN   \n",
       "29996           11417         Sadie             F  Schnauzer, Miniature   \n",
       "29997           11228       unknown             M            Pomeranian   \n",
       "29998           11217         daisy             F                   NaN   \n",
       "29999           10038       Squeeze             M              Shih Tzu   \n",
       "\n",
       "      secondary_breed animal_dominant_color animal_secondary_color  \\\n",
       "0       AIREDALE TERR                 BROWN                  BLACK   \n",
       "1                 NaN                 BLACK                    TAN   \n",
       "2                 NaN                  Rust                    NaN   \n",
       "3            Cockapoo                 BLOND                  WHITE   \n",
       "4                 NaN                 Black                    NaN   \n",
       "...               ...                   ...                    ...   \n",
       "29995    Goldendoodle                 CREAM                  WHITE   \n",
       "29996             NaN                 BLACK                  BROWN   \n",
       "29997             NaN                   Tan                  White   \n",
       "29998             NaN                  GRAY                  WHITE   \n",
       "29999             NaN                   TAN                  WHITE   \n",
       "\n",
       "      animal_third_color animal_birth spayed_or_neut guard_or_trained  \\\n",
       "0                    NaN   2007-11-01            Yes               No   \n",
       "1                    NaN   2013-04-01             No               No   \n",
       "2                    NaN   2014-09-01            Yes               No   \n",
       "3                    NaN   2008-04-01            Yes               No   \n",
       "4                    NaN   2014-01-01             No               No   \n",
       "...                  ...          ...            ...              ...   \n",
       "29995                TAN   2010-07-01            Yes               No   \n",
       "29996                NaN   2010-05-01            Yes               No   \n",
       "29997                NaN   2014-03-01            Yes               No   \n",
       "29998              BLACK   2009-01-01            Yes               No   \n",
       "29999                NaN   2012-03-01            Yes               No   \n",
       "\n",
       "      vaccinated        application_date license_issued_date  \\\n",
       "0            Yes 2012-09-19 16:01:19.647          2015-09-19   \n",
       "1            Yes 2013-09-20 11:41:36.647          2014-09-20   \n",
       "2             No 2014-09-12 13:13:36.713          2014-09-12   \n",
       "3            Yes 2014-09-12 15:26:51.417          2014-09-12   \n",
       "4             No 2014-09-12 15:43:17.707          2014-09-12   \n",
       "...          ...                     ...                 ...   \n",
       "29995        Yes 2015-08-22 19:00:39.303          2015-08-22   \n",
       "29996        Yes 2015-08-22 19:03:08.003          2015-08-22   \n",
       "29997        Yes 2015-08-22 19:04:56.720          2015-08-22   \n",
       "29998        Yes 2015-08-22 19:14:30.177          2015-08-22   \n",
       "29999        Yes 2015-08-22 19:20:53.700          2015-08-22   \n",
       "\n",
       "      license_expired_date  birth_year  dog_age                neighborhood  \\\n",
       "0               2016-09-19        2007       13             Upper West Side   \n",
       "1               2018-09-20        2013        7             Southeast Bronx   \n",
       "2               2019-09-12        2014        6  Greenwich Village and Soho   \n",
       "3               2017-10-20        2008       12             Upper West Side   \n",
       "4               2019-09-12        2014        6  Greenwich Village and Soho   \n",
       "...                    ...         ...      ...                         ...   \n",
       "29995           2016-09-27        2010       10                 West Queens   \n",
       "29996           2016-09-28        2010       10            Southwest Queens   \n",
       "29997           2016-08-22        2014        6          Southwest Brooklyn   \n",
       "29998           2016-08-05        2009       11          Northwest Brooklyn   \n",
       "29999           2016-07-23        2012        8             Lower Manhattan   \n",
       "\n",
       "         borough  \n",
       "0      Manhattan  \n",
       "1          Bronx  \n",
       "2      Manhattan  \n",
       "3      Manhattan  \n",
       "4      Manhattan  \n",
       "...          ...  \n",
       "29995     Queens  \n",
       "29996     Queens  \n",
       "29997   Brooklyn  \n",
       "29998   Brooklyn  \n",
       "29999  Manhattan  \n",
       "\n",
       "[30000 rows x 19 columns]"
      ]
     },
     "execution_count": 20,
     "metadata": {},
     "output_type": "execute_result"
    }
   ],
   "source": [
    "neighborhoods = pd.read_csv(\"zipcodes-neighborhoods.csv\")\n",
    "\n",
    "merged = df.merge(neighborhoods, \n",
    "         left_on = 'owner_zip_code', \n",
    "         right_on = 'zip', \n",
    "         how = 'left')\n",
    "\n",
    "merged = merged.drop(columns=['zip'])\n",
    "\n",
    "merged"
   ]
  },
  {
   "cell_type": "markdown",
   "metadata": {},
   "source": [
    "## What is the most popular dog name in all parts of the Bronx? How about Brooklyn? The Upper East Side?"
   ]
  },
  {
   "cell_type": "code",
   "execution_count": 21,
   "metadata": {},
   "outputs": [
    {
     "name": "stdout",
     "output_type": "stream",
     "text": [
      "Most Popular Names and Counts per Borough:\n",
      "Bronx\n",
      "Bella    22\n",
      "Name: animal_name, dtype: int64\n",
      "---\n",
      "Manhattan\n",
      "Lola    71\n",
      "Name: animal_name, dtype: int64\n",
      "---\n",
      "Queens\n",
      "Max    50\n",
      "Name: animal_name, dtype: int64\n",
      "---\n",
      "Brooklyn\n",
      "Max    46\n",
      "Name: animal_name, dtype: int64\n",
      "---\n",
      "Staten Island\n",
      "Max    27\n",
      "Name: animal_name, dtype: int64\n",
      "---\n",
      "The most popular dog name in the Upper East Side is Charlie .\n",
      "There are 19 of them in the UES.\n"
     ]
    }
   ],
   "source": [
    "merged = merged.replace({'Unknown' : np.nan, 'unknown': np.nan})\n",
    "\n",
    "print(\"Most Popular Names and Counts per Borough:\")\n",
    "borough_list = [\"Bronx\", \"Manhattan\", \"Queens\", \"Brooklyn\", \"Staten Island\"]\n",
    "for borough in borough_list:\n",
    "    print(borough)\n",
    "    print(merged[merged.borough == borough].animal_name.value_counts().head(1))\n",
    "    print(\"---\")\n",
    "\n",
    "print(\"The most popular dog name in the Upper East Side is\", merged[merged.neighborhood == \"Upper East Side\"].animal_name.value_counts().head(1).index[0], \".\")\n",
    "print(\"There are\", merged[merged.neighborhood == \"Upper East Side\"].animal_name.value_counts().head(1).values[0], \"of them in the UES.\")"
   ]
  },
  {
   "cell_type": "markdown",
   "metadata": {},
   "source": [
    "## What is the most common dog breed in each of the neighborhoods of NYC?"
   ]
  },
  {
   "cell_type": "code",
   "execution_count": 22,
   "metadata": {},
   "outputs": [
    {
     "name": "stdout",
     "output_type": "stream",
     "text": [
      "Most Popular Breeds and Counts per Borough:\n",
      "Bronx\n",
      "Yorkshire Terrier    250\n",
      "Name: primary_breed, dtype: int64\n",
      "---\n",
      "Manhattan\n",
      "Chihuahua    511\n",
      "Name: primary_breed, dtype: int64\n",
      "---\n",
      "Queens\n",
      "Yorkshire Terrier    434\n",
      "Name: primary_breed, dtype: int64\n",
      "---\n",
      "Brooklyn\n",
      "Yorkshire Terrier    501\n",
      "Name: primary_breed, dtype: int64\n",
      "---\n",
      "Staten Island\n",
      "Yorkshire Terrier    171\n",
      "Name: primary_breed, dtype: int64\n",
      "---\n"
     ]
    }
   ],
   "source": [
    "print(\"Most Popular Breeds and Counts per Borough:\")\n",
    "borough_list = [\"Bronx\", \"Manhattan\", \"Queens\", \"Brooklyn\", \"Staten Island\"]\n",
    "for borough in borough_list:\n",
    "    print(borough)\n",
    "    print(merged[merged.borough == borough].primary_breed.value_counts().head(1))\n",
    "    print(\"---\")"
   ]
  },
  {
   "cell_type": "code",
   "execution_count": null,
   "metadata": {},
   "outputs": [],
   "source": []
  },
  {
   "cell_type": "code",
   "execution_count": null,
   "metadata": {},
   "outputs": [],
   "source": []
  },
  {
   "cell_type": "markdown",
   "metadata": {},
   "source": [
    "## What breed of dogs are the least likely to be spayed? Male or female?"
   ]
  },
  {
   "cell_type": "code",
   "execution_count": 23,
   "metadata": {},
   "outputs": [
    {
     "name": "stdout",
     "output_type": "stream",
     "text": [
      "Male Spayed %:\n",
      "Yes    0.791856\n",
      "No     0.208144\n",
      "Name: spayed_or_neut, dtype: float64\n",
      "\n",
      "\n",
      "Female Spayed %:\n",
      "Yes    0.85785\n",
      "No     0.14215\n",
      "Name: spayed_or_neut, dtype: float64\n",
      "\n",
      "\n",
      "Male dogs are least likely to be spayed\n"
     ]
    }
   ],
   "source": [
    "print(\"Male Spayed %:\")\n",
    "print(df[df.animal_gender == \"M\"].spayed_or_neut.value_counts(normalize=\"true\"))\n",
    "print('\\n')\n",
    "\n",
    "print(\"Female Spayed %:\")\n",
    "print(df[df.animal_gender == \"F\"].spayed_or_neut.value_counts(normalize=\"true\"))\n",
    "\n",
    "print('\\n')\n",
    "print(\"Male dogs are least likely to be spayed\")"
   ]
  },
  {
   "cell_type": "markdown",
   "metadata": {},
   "source": [
    "## Make a new column called monochrome that is True for any animal that only has black, white or grey as one of its colors. How many animals are monochrome?"
   ]
  },
  {
   "cell_type": "code",
   "execution_count": 24,
   "metadata": {},
   "outputs": [],
   "source": [
    "colors = []\n",
    "for color in df.animal_dominant_color:\n",
    "    colors.append(str(color).lower())\n",
    "\n",
    "df.animal_dominant_color = colors"
   ]
  },
  {
   "cell_type": "code",
   "execution_count": 25,
   "metadata": {},
   "outputs": [
    {
     "data": {
      "text/html": [
       "<div>\n",
       "<style scoped>\n",
       "    .dataframe tbody tr th:only-of-type {\n",
       "        vertical-align: middle;\n",
       "    }\n",
       "\n",
       "    .dataframe tbody tr th {\n",
       "        vertical-align: top;\n",
       "    }\n",
       "\n",
       "    .dataframe thead th {\n",
       "        text-align: right;\n",
       "    }\n",
       "</style>\n",
       "<table border=\"1\" class=\"dataframe\">\n",
       "  <thead>\n",
       "    <tr style=\"text-align: right;\">\n",
       "      <th></th>\n",
       "      <th>owner_zip_code</th>\n",
       "      <th>animal_name</th>\n",
       "      <th>animal_gender</th>\n",
       "      <th>primary_breed</th>\n",
       "      <th>secondary_breed</th>\n",
       "      <th>animal_dominant_color</th>\n",
       "      <th>animal_secondary_color</th>\n",
       "      <th>animal_third_color</th>\n",
       "      <th>animal_birth</th>\n",
       "      <th>spayed_or_neut</th>\n",
       "      <th>guard_or_trained</th>\n",
       "      <th>vaccinated</th>\n",
       "      <th>application_date</th>\n",
       "      <th>license_issued_date</th>\n",
       "      <th>license_expired_date</th>\n",
       "      <th>birth_year</th>\n",
       "      <th>dog_age</th>\n",
       "    </tr>\n",
       "  </thead>\n",
       "  <tbody>\n",
       "    <tr>\n",
       "      <th>4</th>\n",
       "      <td>10013</td>\n",
       "      <td>Ali</td>\n",
       "      <td>M</td>\n",
       "      <td>Basenji</td>\n",
       "      <td>NaN</td>\n",
       "      <td>black</td>\n",
       "      <td>NaN</td>\n",
       "      <td>NaN</td>\n",
       "      <td>2014-01-01</td>\n",
       "      <td>No</td>\n",
       "      <td>No</td>\n",
       "      <td>No</td>\n",
       "      <td>2014-09-12 15:43:17.707</td>\n",
       "      <td>2014-09-12</td>\n",
       "      <td>2019-09-12</td>\n",
       "      <td>2014</td>\n",
       "      <td>6</td>\n",
       "    </tr>\n",
       "    <tr>\n",
       "      <th>19</th>\n",
       "      <td>10002</td>\n",
       "      <td>Avery</td>\n",
       "      <td>F</td>\n",
       "      <td>American Pit Bull Terrier/Pit Bull</td>\n",
       "      <td>NaN</td>\n",
       "      <td>gray</td>\n",
       "      <td>NaN</td>\n",
       "      <td>NaN</td>\n",
       "      <td>2014-06-01</td>\n",
       "      <td>No</td>\n",
       "      <td>No</td>\n",
       "      <td>No</td>\n",
       "      <td>2014-09-13 15:55:11.457</td>\n",
       "      <td>2014-09-13</td>\n",
       "      <td>2019-09-13</td>\n",
       "      <td>2014</td>\n",
       "      <td>6</td>\n",
       "    </tr>\n",
       "    <tr>\n",
       "      <th>41</th>\n",
       "      <td>10023</td>\n",
       "      <td>Joey</td>\n",
       "      <td>F</td>\n",
       "      <td>Labrador Retriever Crossbreed</td>\n",
       "      <td>NaN</td>\n",
       "      <td>black</td>\n",
       "      <td>NaN</td>\n",
       "      <td>NaN</td>\n",
       "      <td>2010-03-01</td>\n",
       "      <td>Yes</td>\n",
       "      <td>No</td>\n",
       "      <td>Yes</td>\n",
       "      <td>2014-09-14 21:05:27.303</td>\n",
       "      <td>2014-09-14</td>\n",
       "      <td>2017-07-30</td>\n",
       "      <td>2010</td>\n",
       "      <td>10</td>\n",
       "    </tr>\n",
       "    <tr>\n",
       "      <th>55</th>\n",
       "      <td>10467</td>\n",
       "      <td>Angel</td>\n",
       "      <td>M</td>\n",
       "      <td>Bichon Frise</td>\n",
       "      <td>NaN</td>\n",
       "      <td>white</td>\n",
       "      <td>NaN</td>\n",
       "      <td>NaN</td>\n",
       "      <td>2000-11-01</td>\n",
       "      <td>Yes</td>\n",
       "      <td>No</td>\n",
       "      <td>Yes</td>\n",
       "      <td>2014-09-15 12:35:39.320</td>\n",
       "      <td>2014-09-15</td>\n",
       "      <td>2017-10-31</td>\n",
       "      <td>2000</td>\n",
       "      <td>20</td>\n",
       "    </tr>\n",
       "    <tr>\n",
       "      <th>56</th>\n",
       "      <td>10467</td>\n",
       "      <td>PEPI</td>\n",
       "      <td>M</td>\n",
       "      <td>NaN</td>\n",
       "      <td>TOY MALTESE</td>\n",
       "      <td>white</td>\n",
       "      <td>NaN</td>\n",
       "      <td>NaN</td>\n",
       "      <td>2004-01-01</td>\n",
       "      <td>Yes</td>\n",
       "      <td>No</td>\n",
       "      <td>Yes</td>\n",
       "      <td>2014-09-15 12:38:27.453</td>\n",
       "      <td>2014-09-15</td>\n",
       "      <td>2019-10-31</td>\n",
       "      <td>2004</td>\n",
       "      <td>16</td>\n",
       "    </tr>\n",
       "    <tr>\n",
       "      <th>...</th>\n",
       "      <td>...</td>\n",
       "      <td>...</td>\n",
       "      <td>...</td>\n",
       "      <td>...</td>\n",
       "      <td>...</td>\n",
       "      <td>...</td>\n",
       "      <td>...</td>\n",
       "      <td>...</td>\n",
       "      <td>...</td>\n",
       "      <td>...</td>\n",
       "      <td>...</td>\n",
       "      <td>...</td>\n",
       "      <td>...</td>\n",
       "      <td>...</td>\n",
       "      <td>...</td>\n",
       "      <td>...</td>\n",
       "      <td>...</td>\n",
       "    </tr>\n",
       "    <tr>\n",
       "      <th>29955</th>\n",
       "      <td>10005</td>\n",
       "      <td>Bili</td>\n",
       "      <td>M</td>\n",
       "      <td>Maltese</td>\n",
       "      <td>NaN</td>\n",
       "      <td>white</td>\n",
       "      <td>NaN</td>\n",
       "      <td>NaN</td>\n",
       "      <td>2015-05-01</td>\n",
       "      <td>No</td>\n",
       "      <td>No</td>\n",
       "      <td>Yes</td>\n",
       "      <td>2015-08-22 17:09:46.157</td>\n",
       "      <td>2015-08-22</td>\n",
       "      <td>2016-08-22</td>\n",
       "      <td>2015</td>\n",
       "      <td>5</td>\n",
       "    </tr>\n",
       "    <tr>\n",
       "      <th>29957</th>\n",
       "      <td>11429</td>\n",
       "      <td>Portland</td>\n",
       "      <td>M</td>\n",
       "      <td>American Pit Bull Mix / Pit Bull Mix</td>\n",
       "      <td>NaN</td>\n",
       "      <td>gray</td>\n",
       "      <td>NaN</td>\n",
       "      <td>NaN</td>\n",
       "      <td>2014-04-01</td>\n",
       "      <td>Yes</td>\n",
       "      <td>No</td>\n",
       "      <td>Yes</td>\n",
       "      <td>2015-08-22 17:13:14.537</td>\n",
       "      <td>2015-08-22</td>\n",
       "      <td>2016-08-22</td>\n",
       "      <td>2014</td>\n",
       "      <td>6</td>\n",
       "    </tr>\n",
       "    <tr>\n",
       "      <th>29966</th>\n",
       "      <td>11377</td>\n",
       "      <td>DIDI</td>\n",
       "      <td>F</td>\n",
       "      <td>Poodle, Toy</td>\n",
       "      <td>NaN</td>\n",
       "      <td>black</td>\n",
       "      <td>NaN</td>\n",
       "      <td>NaN</td>\n",
       "      <td>2012-11-01</td>\n",
       "      <td>Yes</td>\n",
       "      <td>No</td>\n",
       "      <td>Yes</td>\n",
       "      <td>2015-08-22 17:32:28.813</td>\n",
       "      <td>2015-08-22</td>\n",
       "      <td>2016-07-29</td>\n",
       "      <td>2012</td>\n",
       "      <td>8</td>\n",
       "    </tr>\n",
       "    <tr>\n",
       "      <th>29992</th>\n",
       "      <td>11205</td>\n",
       "      <td>Happy</td>\n",
       "      <td>M</td>\n",
       "      <td>NaN</td>\n",
       "      <td>bichon frise mix</td>\n",
       "      <td>white</td>\n",
       "      <td>NaN</td>\n",
       "      <td>NaN</td>\n",
       "      <td>2004-01-01</td>\n",
       "      <td>Yes</td>\n",
       "      <td>No</td>\n",
       "      <td>Yes</td>\n",
       "      <td>2015-08-22 18:49:47.973</td>\n",
       "      <td>2015-08-22</td>\n",
       "      <td>2016-09-21</td>\n",
       "      <td>2004</td>\n",
       "      <td>16</td>\n",
       "    </tr>\n",
       "    <tr>\n",
       "      <th>29993</th>\n",
       "      <td>10019</td>\n",
       "      <td>Cece</td>\n",
       "      <td>F</td>\n",
       "      <td>Lhasa Apso</td>\n",
       "      <td>NaN</td>\n",
       "      <td>white</td>\n",
       "      <td>NaN</td>\n",
       "      <td>NaN</td>\n",
       "      <td>2008-01-01</td>\n",
       "      <td>Yes</td>\n",
       "      <td>No</td>\n",
       "      <td>Yes</td>\n",
       "      <td>2015-08-22 18:49:52.060</td>\n",
       "      <td>2015-08-22</td>\n",
       "      <td>2020-09-24</td>\n",
       "      <td>2008</td>\n",
       "      <td>12</td>\n",
       "    </tr>\n",
       "  </tbody>\n",
       "</table>\n",
       "<p>4156 rows × 17 columns</p>\n",
       "</div>"
      ],
      "text/plain": [
       "       owner_zip_code animal_name animal_gender  \\\n",
       "4               10013         Ali             M   \n",
       "19              10002       Avery             F   \n",
       "41              10023        Joey             F   \n",
       "55              10467       Angel             M   \n",
       "56              10467  PEPI                   M   \n",
       "...               ...         ...           ...   \n",
       "29955           10005        Bili             M   \n",
       "29957           11429    Portland             M   \n",
       "29966           11377        DIDI             F   \n",
       "29992           11205       Happy             M   \n",
       "29993           10019        Cece             F   \n",
       "\n",
       "                              primary_breed   secondary_breed  \\\n",
       "4                                   Basenji               NaN   \n",
       "19       American Pit Bull Terrier/Pit Bull               NaN   \n",
       "41            Labrador Retriever Crossbreed               NaN   \n",
       "55                             Bichon Frise               NaN   \n",
       "56                                      NaN   TOY MALTESE       \n",
       "...                                     ...               ...   \n",
       "29955                               Maltese               NaN   \n",
       "29957  American Pit Bull Mix / Pit Bull Mix               NaN   \n",
       "29966                           Poodle, Toy               NaN   \n",
       "29992                                   NaN  bichon frise mix   \n",
       "29993                            Lhasa Apso               NaN   \n",
       "\n",
       "      animal_dominant_color animal_secondary_color animal_third_color  \\\n",
       "4                     black                    NaN                NaN   \n",
       "19                     gray                    NaN                NaN   \n",
       "41                    black                    NaN                NaN   \n",
       "55                    white                    NaN                NaN   \n",
       "56                    white                    NaN                NaN   \n",
       "...                     ...                    ...                ...   \n",
       "29955                 white                    NaN                NaN   \n",
       "29957                  gray                    NaN                NaN   \n",
       "29966                 black                    NaN                NaN   \n",
       "29992                 white                    NaN                NaN   \n",
       "29993                 white                    NaN                NaN   \n",
       "\n",
       "      animal_birth spayed_or_neut guard_or_trained vaccinated  \\\n",
       "4       2014-01-01             No               No         No   \n",
       "19      2014-06-01             No               No         No   \n",
       "41      2010-03-01            Yes               No        Yes   \n",
       "55      2000-11-01            Yes               No        Yes   \n",
       "56      2004-01-01            Yes               No        Yes   \n",
       "...            ...            ...              ...        ...   \n",
       "29955   2015-05-01             No               No        Yes   \n",
       "29957   2014-04-01            Yes               No        Yes   \n",
       "29966   2012-11-01            Yes               No        Yes   \n",
       "29992   2004-01-01            Yes               No        Yes   \n",
       "29993   2008-01-01            Yes               No        Yes   \n",
       "\n",
       "             application_date license_issued_date license_expired_date  \\\n",
       "4     2014-09-12 15:43:17.707          2014-09-12           2019-09-12   \n",
       "19    2014-09-13 15:55:11.457          2014-09-13           2019-09-13   \n",
       "41    2014-09-14 21:05:27.303          2014-09-14           2017-07-30   \n",
       "55    2014-09-15 12:35:39.320          2014-09-15           2017-10-31   \n",
       "56    2014-09-15 12:38:27.453          2014-09-15           2019-10-31   \n",
       "...                       ...                 ...                  ...   \n",
       "29955 2015-08-22 17:09:46.157          2015-08-22           2016-08-22   \n",
       "29957 2015-08-22 17:13:14.537          2015-08-22           2016-08-22   \n",
       "29966 2015-08-22 17:32:28.813          2015-08-22           2016-07-29   \n",
       "29992 2015-08-22 18:49:47.973          2015-08-22           2016-09-21   \n",
       "29993 2015-08-22 18:49:52.060          2015-08-22           2020-09-24   \n",
       "\n",
       "       birth_year  dog_age  \n",
       "4            2014        6  \n",
       "19           2014        6  \n",
       "41           2010       10  \n",
       "55           2000       20  \n",
       "56           2004       16  \n",
       "...           ...      ...  \n",
       "29955        2015        5  \n",
       "29957        2014        6  \n",
       "29966        2012        8  \n",
       "29992        2004       16  \n",
       "29993        2008       12  \n",
       "\n",
       "[4156 rows x 17 columns]"
      ]
     },
     "execution_count": 25,
     "metadata": {},
     "output_type": "execute_result"
    }
   ],
   "source": [
    "df[(df.animal_dominant_color == \"black\") & (df.animal_secondary_color.isnull()) |\n",
    "  (df.animal_dominant_color == \"grey\") & (df.animal_secondary_color.isnull()) | \n",
    "   ((df.animal_dominant_color == \"gray\") & (df.animal_secondary_color.isnull()))|\n",
    "  (df.animal_dominant_color == \"white\") & (df.animal_secondary_color.isnull())]"
   ]
  },
  {
   "cell_type": "code",
   "execution_count": 26,
   "metadata": {},
   "outputs": [
    {
     "name": "stdout",
     "output_type": "stream",
     "text": [
      "There are 4,156 monochrome dogs in the list.\n"
     ]
    }
   ],
   "source": [
    "monochrome_num = df[(df.animal_dominant_color == \"black\") & (df.animal_secondary_color.isnull()) |\n",
    "  (df.animal_dominant_color == \"grey\") & (df.animal_secondary_color.isnull()) | \n",
    "   ((df.animal_dominant_color == \"gray\") & (df.animal_secondary_color.isnull()))|\n",
    "  (df.animal_dominant_color == \"white\") & (df.animal_secondary_color.isnull())] \\\n",
    "    .animal_dominant_color.value_counts().sum()\n",
    "\n",
    "print(f'There are {monochrome_num:,} monochrome dogs in the list.')"
   ]
  },
  {
   "cell_type": "markdown",
   "metadata": {},
   "source": [
    "## How many dogs are in each borough? Plot it in a graph."
   ]
  },
  {
   "cell_type": "code",
   "execution_count": 27,
   "metadata": {},
   "outputs": [
    {
     "data": {
      "text/plain": [
       "<AxesSubplot:>"
      ]
     },
     "execution_count": 27,
     "metadata": {},
     "output_type": "execute_result"
    },
    {
     "data": {
      "image/png": "[encoded data removed]",
      "text/plain": [
       "<Figure size 432x288 with 1 Axes>"
      ]
     },
     "metadata": {
      "needs_background": "light"
     },
     "output_type": "display_data"
    }
   ],
   "source": [
    "merged.borough.value_counts().sort_values(ascending=True).plot(kind='barh')"
   ]
  },
  {
   "cell_type": "markdown",
   "metadata": {},
   "source": [
    "## Which borough has the highest number of dogs per-capita?\n",
    "\n",
    "You’ll need to merge in `population_boro.csv`"
   ]
  },
  {
   "cell_type": "code",
   "execution_count": 28,
   "metadata": {},
   "outputs": [
    {
     "name": "stdout",
     "output_type": "stream",
     "text": [
      "Manhattan has the most dogs per capita.\n"
     ]
    }
   ],
   "source": [
    "pops = pd.read_csv(\"boro_population.csv\")\n",
    "\n",
    "per_cap_df = merged.borough.value_counts().reset_index()\n",
    "per_cap_df = per_cap_df.rename(columns = {'index': 'borough', 'borough': 'count'})\n",
    "\n",
    "per_cap_df = per_cap_df.merge(pops, \n",
    "         left_on = 'borough', \n",
    "         right_on = 'borough', \n",
    "         how = 'left')\n",
    "\n",
    "per_cap_df['per_capita'] = per_cap_df['count'] / per_cap_df['population']\n",
    "\n",
    "top_borough = per_cap_df.sort_values(by = 'per_capita', ascending=False).head(1).borough.values[0]\n",
    "\n",
    "print(f'{top_borough} has the most dogs per capita.')"
   ]
  },
  {
   "cell_type": "markdown",
   "metadata": {},
   "source": [
    "## Make a bar graph of the top 5 breeds in each borough.\n",
    "\n",
    "How do you groupby and then only take the top X number? You **really** should ask me, because it's kind of crazy."
   ]
  },
  {
   "cell_type": "code",
   "execution_count": 29,
   "metadata": {},
   "outputs": [
    {
     "data": {
      "text/plain": [
       "<AxesSubplot:ylabel='borough,borough,primary_breed'>"
      ]
     },
     "execution_count": 29,
     "metadata": {},
     "output_type": "execute_result"
    },
    {
     "data": {
      "image/png": "[encoded data removed]",
      "text/plain": [
       "<Figure size 720x864 with 1 Axes>"
      ]
     },
     "metadata": {
      "needs_background": "light"
     },
     "output_type": "display_data"
    }
   ],
   "source": [
    "merged.groupby('borough').primary_breed.value_counts().groupby(level=0).nlargest(5).plot(kind='barh', figsize=(10, 12))"
   ]
  },
  {
   "cell_type": "markdown",
   "metadata": {},
   "source": [
    "## What percentage of dogs are not guard dogs?"
   ]
  },
  {
   "cell_type": "code",
   "execution_count": 30,
   "metadata": {},
   "outputs": [
    {
     "name": "stdout",
     "output_type": "stream",
     "text": [
      "99.94% are not guard dogs.\n"
     ]
    }
   ],
   "source": [
    "not_guard_pct = df.guard_or_trained.value_counts(normalize = True)[\"No\"]\n",
    "\n",
    "print(f'{not_guard_pct * 100 :.2f}% are not guard dogs.')"
   ]
  },
  {
   "cell_type": "code",
   "execution_count": null,
   "metadata": {},
   "outputs": [],
   "source": []
  }
 ],
 "metadata": {
  "kernelspec": {
   "display_name": "Python 3",
   "language": "python",
   "name": "python3"
  },
  "language_info": {
   "codemirror_mode": {
    "name": "ipython",
    "version": 3
   },
   "file_extension": ".py",
   "mimetype": "text/x-python",
   "name": "python",
   "nbconvert_exporter": "python",
   "pygments_lexer": "ipython3",
   "version": "3.8.2"
  }
 },
 "nbformat": 4,
 "nbformat_minor": 2
}
